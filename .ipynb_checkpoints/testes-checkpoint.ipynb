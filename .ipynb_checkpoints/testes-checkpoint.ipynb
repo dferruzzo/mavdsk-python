{
 "cells": [
  {
   "cell_type": "code",
   "execution_count": 4,
   "id": "c08b854d-e08a-44eb-95b3-a4ab9bd9ca58",
   "metadata": {},
   "outputs": [],
   "source": [
    "import matplotlib.pyplot as plt\n",
    "import numpy as np"
   ]
  },
  {
   "cell_type": "code",
   "execution_count": 7,
   "id": "2f3ef753-5d01-4f4a-8060-4ef6d0b086b1",
   "metadata": {},
   "outputs": [
    {
     "ename": "NameError",
     "evalue": "name 'A' is not defined",
     "output_type": "error",
     "traceback": [
      "\u001b[0;31m---------------------------------------------------------------------------\u001b[0m",
      "\u001b[0;31mNameError\u001b[0m                                 Traceback (most recent call last)",
      "Cell \u001b[0;32mIn[7], line 11\u001b[0m\n\u001b[1;32m      8\u001b[0m length \u001b[38;5;241m=\u001b[39m \u001b[38;5;28mint\u001b[39m((tf\u001b[38;5;241m-\u001b[39mt0)\u001b[38;5;241m/\u001b[39mTa) \u001b[38;5;66;03m# quantidade de pontos\u001b[39;00m\n\u001b[1;32m      9\u001b[0m t \u001b[38;5;241m=\u001b[39m np\u001b[38;5;241m.\u001b[39mlinspace(t0, tf, length)\n\u001b[0;32m---> 11\u001b[0m delta_tone \u001b[38;5;241m=\u001b[39m \u001b[43mA\u001b[49m\u001b[38;5;241m*\u001b[39mnp\u001b[38;5;241m.\u001b[39msin(w0\u001b[38;5;241m*\u001b[39mt) \u001b[38;5;66;03m# apenas um tone de w rad/seg de amplitude A graus\u001b[39;00m\n",
      "\u001b[0;31mNameError\u001b[0m: name 'A' is not defined"
     ]
    }
   ],
   "source": [
    "fa = 50.0 # Hz (freq de amostragem)\n",
    "Ta = 1/fa # Tempo de amostragem\n",
    "\n",
    "t0 = 0.0\n",
    "tf = 15.0\n",
    "length = int((tf-t0)/Ta) # quantidade de pontos\n",
    "t = np.linspace(t0, tf, length)\n",
    " \n",
    "dt = t[1] - t[0]\n",
    "\n",
    "C1 = 4.0\n",
    "C2 = 0.0187\n",
    "Trec = 13.0\n",
    "wmin = 0.4*2*np.pi # rad/s\n",
    "wmax = 6.0*2*np.pi # rad/s\n",
    "f0 = 1.0 # Hz\n",
    "w0 = f0*2*np.pi # rad/s\n",
    "A = 0.2*180/np.pi\n",
    "K = C2*(np.exp((C1*t)/Trec)-1)\n",
    "w = wmin + K*(wmax-wmin)\n",
    "theta = np.cumsum(w)*dt # integration of w(t) with respect to t\n",
    "delta_sweep = A*np.sin(theta)\n",
    "delta_tone = A*np.sin(w0*t) # apenas um tone de w rad/seg de amplitude A graus"
   ]
  },
  {
   "cell_type": "code",
   "execution_count": null,
   "id": "f7178efc-8256-4c8d-8454-42b5bb3866ed",
   "metadata": {},
   "outputs": [],
   "source": []
  }
 ],
 "metadata": {
  "kernelspec": {
   "display_name": "Python 3 (ipykernel)",
   "language": "python",
   "name": "python3"
  },
  "language_info": {
   "codemirror_mode": {
    "name": "ipython",
    "version": 3
   },
   "file_extension": ".py",
   "mimetype": "text/x-python",
   "name": "python",
   "nbconvert_exporter": "python",
   "pygments_lexer": "ipython3",
   "version": "3.10.12"
  }
 },
 "nbformat": 4,
 "nbformat_minor": 5
}
